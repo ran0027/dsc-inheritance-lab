{
 "cells": [
  {
   "cell_type": "markdown",
   "metadata": {},
   "source": [
    "# Inheritance - Lab\n",
    "\n",
    "## Introduction\n",
    "\n",
    "In this lab, you'll use what you've learned about inheritance to model a zoo using superclasses, subclasses, and maybe even an abstract superclass!\n",
    "\n",
    "## Objectives\n",
    "\n",
    "In this lab you will: \n",
    "\n",
    "- Create a domain model using OOP \n",
    "- Use inheritance to write nonredundant code \n",
    "\n",
    "## Modeling a Zoo\n",
    "\n",
    "Consider the following scenario:  You've been hired by a zookeeper to build a program that keeps track of all the animals in the zoo.  This is a great opportunity to make use of inheritance and object-oriented programming!\n",
    "\n",
    "## Creating an Abstract Superclass\n",
    "\n",
    "Start by creating an abstract superclass, `Animal()`.  When your program is complete, all subclasses of `Animal()` will have the following attributes:\n",
    "\n",
    "* `name`, which is a string set at instantation time\n",
    "* `size`, which can be `'small'`, `'medium'`, `'large'`, or `'enormous'` \n",
    "* `weight`, which is an integer set at instantiation time \n",
    "* `species`, a string that tells us the species of the animal\n",
    "* `food_type`, which can be `'herbivore'`, `'carnivore'`, or `'omnivore'`\n",
    "* `nocturnal`, a boolean value that is `True` if the animal sleeps during the day, otherwise `False`\n",
    "\n",
    "They'll also have the following behaviors:\n",
    "\n",
    "* `sleep`, which prints a string saying if the animal sleeps during day or night\n",
    "* `eat`, which takes in the string `'plants'` or `'meat'`, and returns `'{animal name} the {animal species} thinks {food} is yummy!'` or `'I don't eat this!'` based on the animal's `food_type` attribute \n",
    "\n",
    "In the cell below, create an abstract superclass that meets these specifications.\n",
    "\n",
    "**_NOTE:_** For some attributes in an abstract superclass such as `size`, the initial value doesn't matter -- just make sure that you remember to override it in each of the subclasses!"
   ]
  },
  {
   "cell_type": "code",
   "execution_count": 2,
   "metadata": {},
   "outputs": [],
   "source": [
    "class Animal(object):\n",
    "    def __init__(self, name, weight):\n",
    "        self.name = name\n",
    "        self.weight = weight\n",
    "        \n",
    "        self.size = 'medium'\n",
    "        self.species = None\n",
    "        self.food_type = None\n",
    "        self.nocturnal = False\n",
    "    \n",
    "    def sleep(self):\n",
    "        if self.nocturnal:\n",
    "            sleeping_time = 'day'\n",
    "        else:\n",
    "            sleeping_time = 'night'\n",
    "        print(f'I sleep during the {sleeping_time}time.')\n",
    "        \n",
    "    def eat(self, food):\n",
    "        if food not in ('plants', 'meat'):\n",
    "            print('Accepted arguments are: \"plants\", \"meat\".')\n",
    "        elif food == 'plants':\n",
    "            if self.food_type != 'carnivore':\n",
    "                print(f'{self.name} the {self.species} thinks {food} is yummy!')\n",
    "            else:\n",
    "                print(\"I don't eat this!\")\n",
    "        else:\n",
    "            if self.food_type != 'herbivore':\n",
    "                print(f'{self.name} the {self.species} thinks {food} is yummy!')\n",
    "            else:\n",
    "                print(\"I don't eat this!\")"
   ]
  },
  {
   "cell_type": "markdown",
   "metadata": {},
   "source": [
    "Great! Now that you have our abstract superclass, you can begin building out the specific animal classes.\n",
    "\n",
    "In the cell below, complete the `Elephant()` class.  This class should:\n",
    "\n",
    "* subclass `Animal` \n",
    "* have a species of `'elephant'` \n",
    "* have a size of `'enormous'` \n",
    "* have a food type of `'herbivore'` \n",
    "* set nocturnal to `False` \n",
    "\n",
    "**_Hint:_** Remember to make use of `.super()` during initialization, and be sure to pass in the values it expects at instantiation time!"
   ]
  },
  {
   "cell_type": "code",
   "execution_count": 12,
   "metadata": {},
   "outputs": [],
   "source": [
    "class Elephant(Animal):\n",
    "    def __init__(self, name, weight=8000):\n",
    "        super().__init__(name, weight) # weight in lbs\n",
    "        \n",
    "        self.species = 'elephant'\n",
    "        self.size = 'enormous'\n",
    "        self.food_type = 'herbivore'"
   ]
  },
  {
   "cell_type": "markdown",
   "metadata": {},
   "source": [
    "Great! Now, in the cell below, create a `Tiger()` class.  This class should: \n",
    "\n",
    "* subclass `Animal` \n",
    "* have a species of `'tiger'` \n",
    "* have a size of `'large'` \n",
    "* have a food type of `'carnivore'` \n",
    "* set nocturnal to `True` "
   ]
  },
  {
   "cell_type": "code",
   "execution_count": 13,
   "metadata": {},
   "outputs": [],
   "source": [
    "class Tiger(Animal):\n",
    "    def __init__(self, name, weight=300):\n",
    "        super().__init__(name, weight) # weight in lbs\n",
    "        \n",
    "        self.species = 'tiger'\n",
    "        self.size = 'large'\n",
    "        self.food_type = 'carnivore'\n",
    "        self.nocturnal = True"
   ]
  },
  {
   "cell_type": "markdown",
   "metadata": {},
   "source": [
    "Great! Two more classes to go. In the cell below, create a `Raccoon()` class. This class should:\n",
    "\n",
    "* subclass `Animal` \n",
    "* have a species of `raccoon` \n",
    "* have a size of `'small'` \n",
    "* have a food type of `'omnivore'` \n",
    "* set nocturnal to `True` "
   ]
  },
  {
   "cell_type": "code",
   "execution_count": 14,
   "metadata": {},
   "outputs": [],
   "source": [
    "class Raccoon(Animal):\n",
    "    def __init__(self, name, weight=40):\n",
    "        super().__init__(name, weight) # weight in lbs\n",
    "        \n",
    "        self.species = 'raccoon'\n",
    "        self.size = 'small'\n",
    "        self.food_type = 'omnivore'\n",
    "        self.nocturnal = True"
   ]
  },
  {
   "cell_type": "markdown",
   "metadata": {},
   "source": [
    "Finally, create a `Gorilla()` class. This class should:\n",
    "\n",
    "* subclass `Animal` \n",
    "* have a species of `gorilla` \n",
    "* have a size of `'large'` \n",
    "* have a food type of `'herbivore'` \n",
    "* set nocturnal to `False` "
   ]
  },
  {
   "cell_type": "code",
   "execution_count": 15,
   "metadata": {},
   "outputs": [],
   "source": [
    "class Gorilla(Animal):\n",
    "    def __init__(self, name, weight=300):\n",
    "        super().__init__(name, weight) # weight in lbs\n",
    "        \n",
    "        self.species = 'gorilla'\n",
    "        self.size = 'large'\n",
    "        self.food_type = 'herbivore'"
   ]
  },
  {
   "cell_type": "markdown",
   "metadata": {},
   "source": [
    "## Using Our Objects\n",
    "\n",
    "Now it's time to populate the zoo! To ease the creation of animal instances, create a function `add_animal_to_zoo()`.\n",
    "\n",
    "This function should take in the following parameters:\n",
    "\n",
    "* `zoo`, an array representing the current state of the zoo \n",
    "* `animal_type`, a string.  Can be `'Gorilla'`, `'Raccoon'`, `'Tiger'`, or `'Elephant'` \n",
    "* `name`, the name of the animal being created \n",
    "* `weight`, the weight of the animal being created \n",
    "\n",
    "The function should then:\n",
    "\n",
    "* use `animal_type` to determine which object to create\n",
    "* Create an instance of that animal, passing in the `name` and `weight`\n",
    "* Append the newly created animal to `zoo`\n",
    "* Return `zoo`"
   ]
  },
  {
   "cell_type": "code",
   "execution_count": 16,
   "metadata": {},
   "outputs": [],
   "source": [
    "def add_animal_to_zoo(zoo, animal_type, name, weight):\n",
    "    if animal_type == 'Gorilla':\n",
    "        zoo.append(Gorilla(name, weight))\n",
    "    elif animal_type == 'Raccoon':\n",
    "        zoo.append(Raccoon(name, weight))\n",
    "    elif animal_type == 'Tiger':\n",
    "        zoo.append(Tiger(name, weight))\n",
    "    elif animal_type == 'Elephant':\n",
    "        zoo.append(Elephant(name, weight))\n",
    "    else:\n",
    "        print('Error: check animal type')\n",
    "        \n",
    "    return zoo"
   ]
  },
  {
   "cell_type": "markdown",
   "metadata": {},
   "source": [
    "Great! Now, add some animals to your zoo. \n",
    "\n",
    "Create the following animals and add them to your zoo.  The names and weights are up to you.\n",
    "\n",
    "* 2 Elephants\n",
    "* 2 Raccons\n",
    "* 1 Gorilla\n",
    "* 3 Tigers"
   ]
  },
  {
   "cell_type": "code",
   "execution_count": 19,
   "metadata": {},
   "outputs": [],
   "source": [
    "# Create your animals and add them to the 'zoo' in this cell!\n",
    "zoo = []\n",
    "\n",
    "animals = [('Elephant', 'Jake', 8000), ('Elephant', 'Ellie', 7300), ('Raccoon', 'Rocky', 55), ('Raccoon', 'Max', 35),\\\n",
    "          ('Gorilla', 'Alonso', 400), ('Tiger', 'Ari', 300), ('Tiger', 'Ella', 200), ('Tiger', 'Bo', 195)]\n",
    "\n",
    "for animal in animals:\n",
    "    add_animal_to_zoo(zoo, *animal)"
   ]
  },
  {
   "cell_type": "markdown",
   "metadata": {},
   "source": [
    "Great! Now that you have a populated zoo, you can do what the zookeeper hired you to do -- write a program that feeds the correct animals the right food at the right times!\n",
    "\n",
    "To do this, write a function called `feed_animals()`. This function should take in two arguments:\n",
    "\n",
    "* `zoo`, the zoo array containing all the animals\n",
    "* `time`, which can be `'Day'` or `'Night'`.  This should default to day if nothing is entered for `time` \n",
    "\n",
    "This function should:\n",
    "\n",
    "* Feed only the non-nocturnal animals if `time='Day'`, or only the nocturnal animals if `time='Night'`\n",
    "* Check the food type of each animal before feeding.  If the animal is a carnivore, feed it `'meat'`; otherwise, feed it `'plants'`. Feed the animals by using their `.eat()` method "
   ]
  },
  {
   "cell_type": "code",
   "execution_count": 22,
   "metadata": {},
   "outputs": [],
   "source": [
    "def feed_animals(zoo, time='Day'):\n",
    "    for animal in zoo:\n",
    "        if animal.nocturnal and time == 'Night':\n",
    "            if animal.food_type == 'carnivore':\n",
    "                animal.eat('meat')\n",
    "            else:\n",
    "                animal.eat('plants')\n",
    "        elif (animal.nocturnal == False) and (time == 'Day'):\n",
    "            if animal.food_type == 'carnivore':\n",
    "                animal.eat('meat')\n",
    "            else:\n",
    "                animal.eat('plants')"
   ]
  },
  {
   "cell_type": "markdown",
   "metadata": {},
   "source": [
    "Now, test out your program.  Call the function for a daytime feeding below."
   ]
  },
  {
   "cell_type": "code",
   "execution_count": 23,
   "metadata": {},
   "outputs": [
    {
     "name": "stdout",
     "output_type": "stream",
     "text": [
      "Jake the elephant thinks plants is yummy!\n",
      "Ellie the elephant thinks plants is yummy!\n",
      "Alonso the gorilla thinks plants is yummy!\n"
     ]
    }
   ],
   "source": [
    "feed_animals(zoo)"
   ]
  },
  {
   "cell_type": "markdown",
   "metadata": {},
   "source": [
    "If the elephants and gorrillas were fed then things should be good!\n",
    "\n",
    "In the cell below, call `feed_animals()` again, but this time set `time='Night'`"
   ]
  },
  {
   "cell_type": "code",
   "execution_count": 24,
   "metadata": {},
   "outputs": [
    {
     "name": "stdout",
     "output_type": "stream",
     "text": [
      "Rocky the raccoon thinks plants is yummy!\n",
      "Max the raccoon thinks plants is yummy!\n",
      "Ari the tiger thinks meat is yummy!\n",
      "Ella the tiger thinks meat is yummy!\n",
      "Bo the tiger thinks meat is yummy!\n"
     ]
    }
   ],
   "source": [
    "feed_animals(zoo, time='Night')"
   ]
  },
  {
   "cell_type": "markdown",
   "metadata": {},
   "source": [
    "That's it! You've used OOP and inheritance to build a working program to help the zookeeper feed his animals with right food at the correct times!\n",
    "\n",
    "## Summary\n",
    "\n",
    "In this lab, you modeled a zoo and learned how to use inheritance to write nonredundant code, used subclasses and superclasses, and create a domain model using OOP."
   ]
  }
 ],
 "metadata": {
  "kernelspec": {
   "display_name": "Python 3",
   "language": "python",
   "name": "python3"
  },
  "language_info": {
   "codemirror_mode": {
    "name": "ipython",
    "version": 3
   },
   "file_extension": ".py",
   "mimetype": "text/x-python",
   "name": "python",
   "nbconvert_exporter": "python",
   "pygments_lexer": "ipython3",
   "version": "3.8.5"
  },
  "toc": {
   "base_numbering": 1,
   "nav_menu": {},
   "number_sections": true,
   "sideBar": true,
   "skip_h1_title": false,
   "title_cell": "Table of Contents",
   "title_sidebar": "Contents",
   "toc_cell": false,
   "toc_position": {},
   "toc_section_display": true,
   "toc_window_display": false
  }
 },
 "nbformat": 4,
 "nbformat_minor": 2
}
